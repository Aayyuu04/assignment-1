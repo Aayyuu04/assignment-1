{
  "metadata": {
    "kernelspec": {
      "name": "python",
      "display_name": "Python (Pyodide)",
      "language": "python"
    },
    "language_info": {
      "codemirror_mode": {
        "name": "python",
        "version": 3
      },
      "file_extension": ".py",
      "mimetype": "text/x-python",
      "name": "python",
      "nbconvert_exporter": "python",
      "pygments_lexer": "ipython3",
      "version": "3.8"
    }
  },
  "nbformat_minor": 5,
  "nbformat": 4,
  "cells": [
    {
      "id": "b1dbe997",
      "cell_type": "markdown",
      "source": "# COMP2200/COMP6200 Assignment 1\n\nDue date: 11:55pm on Sunday April 6th 2025\n\n(Note that daylight savings ends earlier on that day. Remember to move your clock backward by an hour.)\n\n## Scenario\n\nYou are working as a data scientist in a venture capital investment firm. You have been given some\ndata about a potential company to invest in. You will create some models to predict what the \npotential company will be like in 12 months' time.\n\n\n## About this assignment\n\nThis assessment focuses on fundamental statistical analysis, which\nwill apply linear and logistic regression techniques on one or more\ndata sets.\n\nThe relevant ULO (Unit Learning Outcomes) are:\n\n- Identify the appropriate Data Science analysis for a problem and\n  apply that method to the problem.\n\n- Interpret Data Science analyses and summarise and identify the most\n  important aspects of a Data Science analysis.\n\n- Present the results of their Data Science analyses both verbally and\n  in written form.\n  \nTotal: 15 marks\n  \n\n## Submission\n\nUse https://classroom.github.com/a/BdRkY5OH to create a new empty\nrepository.\n\nComplete this notebook and add it to a new GitHub repository.\n\nSubmit this repository via Github Classroom.\n\nAdd the video that you create (in the last step) to your GitHub repository.\n\nYou don't need to submit your CSV data file, but we won't penalise you\nif you do.\n\n## Use of Generative AI\n\nFeel free to use Gen-AI tools (ChatGPT, Anthropic Claude, DeepSeek,\nLlama, etc.) to assist you in writing the code. That's what everyone\nin industry does nowadays. There are some suggested prompts at the bottom\nof this notebook.\n\nRemember that you may be called on to explain what your code does and\nhow it works, so if you have some code generated for you that you\ndon't fully understand, spend some time with your Gen-AI tool asking\nfor clarification until you are confident. Having a personal tutor\nguide you is one of the newest and fastest ways to learn to program in\nPython, so make the most of the opportunity. \n\nTo help you remember what your code does, you can add comments to your\ncode either by creating another markdown cell, or by using \"#\" at the\nbeginning of a line in a code cell.\n\nDon't use Gen-AI tools for writing reflections and observations. You\nwill find many cells in this notebook where you need to enter markdown text.\nThey appear like this:\n\n**Your answer here. Replace the text in this markdown cell. Remember not to use Gen-AI here.**\n\nYou don't want to use Gen-AI in these cells for two reasons:\n\n- Thinking and reflecting is how you will get most of the benefit of doing this assignment.\n\n- It will produce meaningless and bland statements (that will be obviously meaningless and bland)\n  and you will get bad marks.\n  \n\n## Marking Criteria\n\nFor a code cell, any working correct answer will earn full marks. For\nnon-working code, or code that performs a different task, if it seems\nlike you were on the right track, the marker may issue partial marks.\n\nFor code cells that create visualisations, a correct answer is one that\ncreates a meaningful and useful visualisation of the data.\n\nFor a text (markdown) cell, word counts are only a guide: this is how\nmany words we think it will take to give a good answer. If you need to\nuse more words, or can express your answer in less words, go ahead: a\ngood answer will still receive full marks.\n\nAnswers given as dot points in a markdown cell are acceptable;\nlikewise full sentences in paragraphs are acceptable.\n\n## Resources\n\nThe textbook for the unit (_Introduction to Data Science_ by Igual and\nSegui) has some linear regression examples as well. You might find\nSection 6.2.3 useful if you are looking for sample code that performs\nlinear regression. Section 6.3.1 has an example of logistic\nregression.\n\n\n## Data\n\nYou will find a large zip file called `2025-S1-COMP2200-6200-assignment1.zip` on iLearn.  When you expand it\nout, you will see many files, including one that begins with your\nstudent number. e.g `1235345 Brown-Miller Group.csv`\n\nCopy it into the same directory as you copied this Jupyter notebook.\n\n### Create a GitHub repo within Github Classroom (0.1 marks)\n\n- Yes, we'll give you 0.1 marks just for getting this far.\n\n### Import any libraries you need (0.1 marks)\n\n",
      "metadata": {}
    },
    {
      "id": "2880dd9b",
      "cell_type": "code",
      "source": "import pandas as pd\nimport matplotlib.pyplot as plt\n",
      "metadata": {
        "trusted": true
      },
      "outputs": [],
      "execution_count": 16
    },
    {
      "id": "c0554759",
      "cell_type": "markdown",
      "source": "\n\nIf you are doing something exotic --- e.g you are using libraries\nother than pandas and scikit-learn --- and you want the marker to\ninstall an extra package or use a particular version of Python, tell\nus about it here. Most students will leave this blank.\n\n",
      "metadata": {}
    },
    {
      "id": "891ec97d",
      "cell_type": "markdown",
      "source": "*Your answer here. Replace the text in this markdown cell. Remember not to use Gen-AI here.* ________________________________",
      "metadata": {}
    },
    {
      "id": "78c29b4a",
      "cell_type": "markdown",
      "source": "\n",
      "metadata": {}
    },
    {
      "id": "83a3d38c",
      "cell_type": "code",
      "source": "import pandas as pd\nimport matplotlib.pyplot as plt\n",
      "metadata": {
        "trusted": true
      },
      "outputs": [],
      "execution_count": 13
    },
    {
      "id": "a8f7f71b",
      "cell_type": "markdown",
      "source": "\n\n### Inspect the Data (0.2 marks)\n\n- List the column names using `df.columns`.\n\n",
      "metadata": {}
    },
    {
      "id": "c889e4b6",
      "cell_type": "code",
      "source": "df = pd.read_csv(\"49102907_Simon_LLC_Inc.csv\")\n",
      "metadata": {
        "trusted": true
      },
      "outputs": [],
      "execution_count": 18
    },
    {
      "id": "3e866470",
      "cell_type": "markdown",
      "source": "\n\n- Explore the data in those columns. Briefly describe each column in one sentence.\n\n",
      "metadata": {}
    },
    {
      "id": "03fd9c62",
      "cell_type": "code",
      "source": "df = pd.read_csv(\"49102907_Simon_LLC_Inc.csv\")\ndf.head()",
      "metadata": {
        "trusted": true
      },
      "outputs": [
        {
          "execution_count": 17,
          "output_type": "execute_result",
          "data": {
            "text/plain": "   Months_Since_Launch      Payroll    Revenue  Base_10_Log_Revenue  Scandals  \\\n0                    1  18502020.36   69668.65               4.8430         0   \n1                    2  17962619.66   78171.34               4.8930         0   \n2                    3  17832533.00   92632.31               4.9668         0   \n3                    4  19878409.70  179140.32               5.2532         0   \n4                    5  21470430.26  153428.94               5.1859         0   \n\n  Media Coverage  \n0       Negative  \n1       Negative  \n2       Negative  \n3       Negative  \n4       Negative  ",
            "text/html": "<div>\n<style scoped>\n    .dataframe tbody tr th:only-of-type {\n        vertical-align: middle;\n    }\n\n    .dataframe tbody tr th {\n        vertical-align: top;\n    }\n\n    .dataframe thead th {\n        text-align: right;\n    }\n</style>\n<table border=\"1\" class=\"dataframe\">\n  <thead>\n    <tr style=\"text-align: right;\">\n      <th></th>\n      <th>Months_Since_Launch</th>\n      <th>Payroll</th>\n      <th>Revenue</th>\n      <th>Base_10_Log_Revenue</th>\n      <th>Scandals</th>\n      <th>Media Coverage</th>\n    </tr>\n  </thead>\n  <tbody>\n    <tr>\n      <th>0</th>\n      <td>1</td>\n      <td>18502020.36</td>\n      <td>69668.65</td>\n      <td>4.8430</td>\n      <td>0</td>\n      <td>Negative</td>\n    </tr>\n    <tr>\n      <th>1</th>\n      <td>2</td>\n      <td>17962619.66</td>\n      <td>78171.34</td>\n      <td>4.8930</td>\n      <td>0</td>\n      <td>Negative</td>\n    </tr>\n    <tr>\n      <th>2</th>\n      <td>3</td>\n      <td>17832533.00</td>\n      <td>92632.31</td>\n      <td>4.9668</td>\n      <td>0</td>\n      <td>Negative</td>\n    </tr>\n    <tr>\n      <th>3</th>\n      <td>4</td>\n      <td>19878409.70</td>\n      <td>179140.32</td>\n      <td>5.2532</td>\n      <td>0</td>\n      <td>Negative</td>\n    </tr>\n    <tr>\n      <th>4</th>\n      <td>5</td>\n      <td>21470430.26</td>\n      <td>153428.94</td>\n      <td>5.1859</td>\n      <td>0</td>\n      <td>Negative</td>\n    </tr>\n  </tbody>\n</table>\n</div>"
          },
          "metadata": {}
        }
      ],
      "execution_count": 17
    },
    {
      "id": "3c44ce16",
      "cell_type": "markdown",
      "source": "*Your answer here. Replace the text in this markdown cell. Remember not to use Gen-AI here.* ________________________________",
      "metadata": {}
    },
    {
      "id": "33c82146",
      "cell_type": "markdown",
      "source": "\n\n\nSuggested word count: ~100 words\n\n",
      "metadata": {}
    },
    {
      "id": "95150e07-7b3c-4800-bb22-bd29e0b08dd6",
      "cell_type": "code",
      "source": "With an emphasis on payroll, revenue, media coverage, and scandals, this dataset displays the performance of the company during the first five months following inception. A month is represented by each row. While revenue grows steadily from $69.7K in month 1 to $179.1K by month 4, then declines somewhat in month 5, payroll stays high, ranging from $17.8M to $21.4M. For simpler trend analysis, the income is logarithmically transformed in the \"Base_10_Log_Revenue\" column. All five months have seen constant unfavourable media coverage, albeit in the absence of any scandals. This implies that during this early stage of business, there may not be a correlation between internal financial performance and outward impressions. ",
      "metadata": {
        "trusted": true
      },
      "outputs": [],
      "execution_count": null
    },
    {
      "id": "3646e962",
      "cell_type": "markdown",
      "source": "\n\n### Visualise Payroll Over Time (1 mark)\n\n- Create a line plot clearly showing payroll over months since launch.\n\n",
      "metadata": {}
    },
    {
      "id": "ac5cf087",
      "cell_type": "code",
      "source": "df.shape",
      "metadata": {
        "trusted": true
      },
      "outputs": [
        {
          "execution_count": 49,
          "output_type": "execute_result",
          "data": {
            "text/plain": "(24, 6)"
          },
          "metadata": {}
        }
      ],
      "execution_count": 49
    },
    {
      "id": "7bdb8e82",
      "cell_type": "markdown",
      "source": "\n\n- Identify and briefly discuss any visible outliers.\n\n",
      "metadata": {}
    },
    {
      "id": "8be54673",
      "cell_type": "code",
      "source": "df.info()",
      "metadata": {
        "trusted": true
      },
      "outputs": [
        {
          "name": "stdout",
          "output_type": "stream",
          "text": "<class 'pandas.core.frame.DataFrame'>\nRangeIndex: 24 entries, 0 to 23\nData columns (total 6 columns):\n #   Column               Non-Null Count  Dtype  \n---  ------               --------------  -----  \n 0   Months_Since_Launch  24 non-null     int64  \n 1   Payroll              24 non-null     float64\n 2   Revenue              24 non-null     float64\n 3   Base_10_Log_Revenue  24 non-null     float64\n 4   Scandals             24 non-null     int64  \n 5   Media Coverage       24 non-null     object \ndtypes: float64(3), int64(2), object(1)\nmemory usage: 1.1+ KB\n"
        }
      ],
      "execution_count": 50
    },
    {
      "id": "0e78e65a",
      "cell_type": "markdown",
      "source": "\n\nSuggested word count: ~50 words\n\n",
      "metadata": {}
    },
    {
      "id": "2616c6e3",
      "cell_type": "markdown",
      "source": "*Your answer here. Replace the text in this markdown cell. Remember not to use Gen-AI here.* ________________________________\nThe Data Frame, which contains six columns and 24 rows, records monthly business data. Payroll, revenue, base-10 logarithmic revenue, and months since debut are all represented numerically. Additionally, as a categorical variable, it monitors the quantity of scandals and media coverage. Analysis of trends and impacts is supported by these data.",
      "metadata": {}
    },
    {
      "id": "9e1a7fdd",
      "cell_type": "markdown",
      "source": "\n\n## Linear Regression: Payroll (Total 3 marks)\n\n### Step-by-step breakdown:\n\n- (0.2 marks) Create training, validation, and test sets correctly:\n  - Training: all months except last two.\n  - Validation: second-last month.\n  - Test: last month.\n  \n",
      "metadata": {}
    },
    {
      "id": "7cd0dddb",
      "cell_type": "code",
      "source": "df.describe()",
      "metadata": {
        "trusted": true
      },
      "outputs": [
        {
          "execution_count": 52,
          "output_type": "execute_result",
          "data": {
            "text/plain": "       Months_Since_Launch       Payroll       Revenue  Base_10_Log_Revenue  \\\ncount            24.000000  2.400000e+01  2.400000e+01            24.000000   \nmean             12.500000  2.798781e+07  1.199018e+06             5.790138   \nstd               7.071068  6.692348e+06  1.294185e+06             0.556230   \nmin               1.000000  1.783253e+07  6.966865e+04             4.843000   \n25%               6.750000  2.237631e+07  2.630410e+05             5.411225   \n50%              12.500000  2.796918e+07  6.659652e+05             5.821950   \n75%              18.250000  3.281556e+07  1.658564e+06             6.218700   \nmax              24.000000  3.955538e+07  3.987575e+06             6.600700   \n\n       Scandals  \ncount      24.0  \nmean        0.0  \nstd         0.0  \nmin         0.0  \n25%         0.0  \n50%         0.0  \n75%         0.0  \nmax         0.0  ",
            "text/html": "<div>\n<style scoped>\n    .dataframe tbody tr th:only-of-type {\n        vertical-align: middle;\n    }\n\n    .dataframe tbody tr th {\n        vertical-align: top;\n    }\n\n    .dataframe thead th {\n        text-align: right;\n    }\n</style>\n<table border=\"1\" class=\"dataframe\">\n  <thead>\n    <tr style=\"text-align: right;\">\n      <th></th>\n      <th>Months_Since_Launch</th>\n      <th>Payroll</th>\n      <th>Revenue</th>\n      <th>Base_10_Log_Revenue</th>\n      <th>Scandals</th>\n    </tr>\n  </thead>\n  <tbody>\n    <tr>\n      <th>count</th>\n      <td>24.000000</td>\n      <td>2.400000e+01</td>\n      <td>2.400000e+01</td>\n      <td>24.000000</td>\n      <td>24.0</td>\n    </tr>\n    <tr>\n      <th>mean</th>\n      <td>12.500000</td>\n      <td>2.798781e+07</td>\n      <td>1.199018e+06</td>\n      <td>5.790138</td>\n      <td>0.0</td>\n    </tr>\n    <tr>\n      <th>std</th>\n      <td>7.071068</td>\n      <td>6.692348e+06</td>\n      <td>1.294185e+06</td>\n      <td>0.556230</td>\n      <td>0.0</td>\n    </tr>\n    <tr>\n      <th>min</th>\n      <td>1.000000</td>\n      <td>1.783253e+07</td>\n      <td>6.966865e+04</td>\n      <td>4.843000</td>\n      <td>0.0</td>\n    </tr>\n    <tr>\n      <th>25%</th>\n      <td>6.750000</td>\n      <td>2.237631e+07</td>\n      <td>2.630410e+05</td>\n      <td>5.411225</td>\n      <td>0.0</td>\n    </tr>\n    <tr>\n      <th>50%</th>\n      <td>12.500000</td>\n      <td>2.796918e+07</td>\n      <td>6.659652e+05</td>\n      <td>5.821950</td>\n      <td>0.0</td>\n    </tr>\n    <tr>\n      <th>75%</th>\n      <td>18.250000</td>\n      <td>3.281556e+07</td>\n      <td>1.658564e+06</td>\n      <td>6.218700</td>\n      <td>0.0</td>\n    </tr>\n    <tr>\n      <th>max</th>\n      <td>24.000000</td>\n      <td>3.955538e+07</td>\n      <td>3.987575e+06</td>\n      <td>6.600700</td>\n      <td>0.0</td>\n    </tr>\n  </tbody>\n</table>\n</div>"
          },
          "metadata": {}
        }
      ],
      "execution_count": 52
    },
    {
      "id": "43a7c702",
      "cell_type": "markdown",
      "source": "\n  \n- (0.5 marks) Train an Ordinary Least Squares (OLS) regressor.\n\n",
      "metadata": {}
    },
    {
      "id": "b63a9316",
      "cell_type": "code",
      "source": "if 'RevenueNextYear' in df_clean.columns:\n    # Define features and target\n    X = df_clean.drop('RevenueNextYear', axis=1)\n    y = df_clean['RevenueNextYear']\nelse:\n    print(\"Column 'RevenueNextYear' not found.\")\n\n",
      "metadata": {
        "trusted": true
      },
      "outputs": [
        {
          "name": "stdout",
          "output_type": "stream",
          "text": "Column 'RevenueNextYear' not found.\n"
        }
      ],
      "execution_count": 53
    },
    {
      "id": "0dbd63bb",
      "cell_type": "markdown",
      "source": "\n\n- (0.5 marks) Train a robust regressor. Use any of the ones we talked\n  about in lectures or pracs, or one that you happen to know from\n  elsewhere.\n\n",
      "metadata": {}
    },
    {
      "id": "dd1d7fa1",
      "cell_type": "code",
      "source": "import numpy as np\nimport pandas as pd\nfrom sklearn.linear_model import HuberRegressor\nfrom sklearn.model_selection import train_test_split\nfrom sklearn.metrics import mean_squared_error, r2_score\n",
      "metadata": {
        "trusted": true
      },
      "outputs": [],
      "execution_count": 54
    },
    {
      "id": "63fc63e1",
      "cell_type": "markdown",
      "source": "\n\n- (0.5 marks) Clearly identify and justify an appropriate evaluation metric.\n\n",
      "metadata": {}
    },
    {
      "id": "361fdf54",
      "cell_type": "code",
      "source": "df.isnull().sum()",
      "metadata": {
        "trusted": true
      },
      "outputs": [
        {
          "execution_count": 55,
          "output_type": "execute_result",
          "data": {
            "text/plain": "Months_Since_Launch    0\nPayroll                0\nRevenue                0\nBase_10_Log_Revenue    0\nScandals               0\nMedia Coverage         0\ndtype: int64"
          },
          "metadata": {}
        }
      ],
      "execution_count": 55
    },
    {
      "id": "a5c4d408",
      "cell_type": "markdown",
      "source": "\n\n- (0.5 marks) Evaluate both models using the validation set and state which performed better.\n\n",
      "metadata": {}
    },
    {
      "id": "9521b562-8760-474c-ad57-b840922044be",
      "cell_type": "code",
      "source": "print(df_clean.columns)",
      "metadata": {
        "trusted": true
      },
      "outputs": [
        {
          "name": "stdout",
          "output_type": "stream",
          "text": "Index(['Months_Since_Launch', 'Payroll', 'Revenue', 'Base_10_Log_Revenue',\n       'Scandals', 'Media Coverage'],\n      dtype='object')\n"
        }
      ],
      "execution_count": 38
    },
    {
      "id": "d6470664",
      "cell_type": "markdown",
      "source": "\n\n",
      "metadata": {}
    },
    {
      "id": "edf2e2b8",
      "cell_type": "markdown",
      "source": "*Your answer here. Replace the text in this markdown cell. Remember not to use Gen-AI here.* ________________________________ \nthis result explains that none of the data frame have six columns, it reduces the need to deal with missing values and gurantees proper analysis",
      "metadata": {}
    },
    {
      "id": "005a443f",
      "cell_type": "markdown",
      "source": "\n\n- (0.3 marks) Report accuracy of the best-performing model on the test set.\n\n",
      "metadata": {}
    },
    {
      "id": "ac6c1cd5",
      "cell_type": "code",
      "source": "print(df.info())",
      "metadata": {
        "trusted": true
      },
      "outputs": [
        {
          "name": "stdout",
          "output_type": "stream",
          "text": "<class 'pandas.core.frame.DataFrame'>\nRangeIndex: 24 entries, 0 to 23\nData columns (total 6 columns):\n #   Column               Non-Null Count  Dtype  \n---  ------               --------------  -----  \n 0   Months_Since_Launch  24 non-null     int64  \n 1   Payroll              24 non-null     float64\n 2   Revenue              24 non-null     float64\n 3   Base_10_Log_Revenue  24 non-null     float64\n 4   Scandals             24 non-null     int64  \n 5   Media Coverage       24 non-null     object \ndtypes: float64(3), int64(2), object(1)\nmemory usage: 1.1+ KB\nNone\n"
        }
      ],
      "execution_count": 66
    },
    {
      "id": "b428a52b",
      "cell_type": "markdown",
      "source": "\n\n- (0.5 marks) Reflect on and explain why the selected model performed\n  better or worse. If it was surprising or expected, explain why.\n\nSuggested word count: ~100 words\n\n",
      "metadata": {}
    },
    {
      "id": "f526640e",
      "cell_type": "markdown",
      "source": "*Your answer here. Replace the text in this markdown cell. Remember not to use Gen-AI here.* \nGiven elements in this data frame's six columns has complete data that is, no null values. Among the columns are months since launch, which indicates the duration of the business; payroll and revenue which display financial information; and\nit also translates revenue logarithmically for analytical reasons and keeps track of how many bad things happen to the company. The object data type media coverage most likely represents textual descriptions of media presence or classifications. Both statistical and qualitative analysis can benefit from the combination of numerical and categorical information indicated by the data types\n",
      "metadata": {}
    },
    {
      "id": "4975f97f",
      "cell_type": "markdown",
      "source": "\n\n\n### Payroll Prediction (1.5 marks)\n\n- (0.5 marks) Provide your best estimate for payroll in 12 months.\n\n",
      "metadata": {}
    },
    {
      "id": "64737d9a",
      "cell_type": "code",
      "source": "df.columns",
      "metadata": {
        "trusted": true
      },
      "outputs": [
        {
          "execution_count": 40,
          "output_type": "execute_result",
          "data": {
            "text/plain": "Index(['Months_Since_Launch', 'Payroll', 'Revenue', 'Base_10_Log_Revenue',\n       'Scandals', 'Media Coverage'],\n      dtype='object')"
          },
          "metadata": {}
        }
      ],
      "execution_count": 40
    },
    {
      "id": "3c2d30c0",
      "cell_type": "markdown",
      "source": "\n\nSuggested word count: ~25 words\n\n",
      "metadata": {}
    },
    {
      "id": "88b09659-f972-46b9-9617-80c72c0a074f",
      "cell_type": "code",
      "source": "payroll is used for distribution of salary",
      "metadata": {
        "trusted": true
      },
      "outputs": [],
      "execution_count": null
    },
    {
      "id": "38f7d635",
      "cell_type": "markdown",
      "source": "*Your answer here. Replace the text in this markdown cell. Remember not to use Gen-AI here.* ________________________________ \nThe data frame's column names, which identify the different kinds of data being examined, are shown in this output. Time since launch, revenue, payroll expenses, its logarithmic transformation, the number of controversies, and media coverage are all included. Both quantitative and qualitative indicators that are helpful for analysing business performance are represented in these columns.",
      "metadata": {}
    },
    {
      "id": "c9b99262",
      "cell_type": "markdown",
      "source": "\n\n- (1 mark) Provide an estimate that takes account for uncertainty,\n  keeping in mind the evaluation metric you chose. If you want to\n  calculate additional metrics, you can do that here too.\n  \n",
      "metadata": {}
    },
    {
      "id": "971b30ce",
      "cell_type": "code",
      "source": "",
      "metadata": {},
      "outputs": [],
      "execution_count": null
    },
    {
      "id": "d5ed073d",
      "cell_type": "markdown",
      "source": "\n\nSuggested word count: ~100 words\n\n",
      "metadata": {}
    },
    {
      "id": "9fcae270",
      "cell_type": "markdown",
      "source": "*Your answer here. Replace the text in this markdown cell. Remember not to use Gen-AI here.* ________________________________",
      "metadata": {}
    },
    {
      "id": "34b573be",
      "cell_type": "markdown",
      "source": "\n\n## Revenue Visualisation and Transformation (1 mark)\n\n- (0.5 marks) Visualise revenue over time.\n\n",
      "metadata": {}
    },
    {
      "id": "f40bf7ca",
      "cell_type": "code",
      "source": "import matplotlib.pyplot as plt\n\nplt.figure(figsize=(10, 5))\nplt.plot(df[\"Months_Since_Launch\"], df[\"Payroll\"], marker='o', linestyle='-')\n\nplt.xlabel(\"Months Since Launch\")\nplt.ylabel(\"Payroll\")\nplt.title(\"Payroll Over Months\")\n\nplt.grid(True)\nplt.show()",
      "metadata": {
        "trusted": true
      },
      "outputs": [
        {
          "output_type": "display_data",
          "data": {
            "text/plain": "<Figure size 1000x500 with 1 Axes>",
            "image/png": "[encoded data removed]"
          },
          "metadata": {}
        }
      ],
      "execution_count": 67
    },
    {
      "id": "343d7cf4",
      "cell_type": "markdown",
      "source": "\n\n- (0.5 marks) Clearly explain why applying a log transformation to revenue may help linear modelling.\n\n",
      "metadata": {}
    },
    {
      "id": "70a5739a",
      "cell_type": "code",
      "source": "By stabilising variance, lowering skewness, and transforming exponential growth into a linear trend, applying a log transformation to revenue aids in linear modelling. This enhances model fit, clarifies patterns, and satisfies important linear regression presumptions like homoscedasticity and normality, producing more accurate and comprehensible results. ",
      "metadata": {
        "trusted": true
      },
      "outputs": [
        {
          "execution_count": 42,
          "output_type": "execute_result",
          "data": {
            "text/plain": "Text(0.5, 0.98, 'Feature Distributions')"
          },
          "metadata": {}
        },
        {
          "output_type": "display_data",
          "data": {
            "text/plain": "<Figure size 640x480 with 0 Axes>"
          },
          "metadata": {}
        }
      ],
      "execution_count": 42
    },
    {
      "id": "7943e29d",
      "cell_type": "markdown",
      "source": "\n\n## Revenue Modelling (3 marks)\n\n- (0.5 marks) Train a linear regression model (any model you choose) on the original revenue data.\n\n",
      "metadata": {}
    },
    {
      "id": "c5f50ac3",
      "cell_type": "code",
      "source": "train_df = df.iloc[:-2]   \nval_df = df.iloc[-2:-1]   \ntest_df = df.iloc[-1:]    \n\nprint(\"Training Set Shape:\", train_df.shape)\nprint(\"Validation Set Shape:\", val_df.shape)\nprint(\"Test Set Shape:\", test_df.shape)",
      "metadata": {
        "trusted": true
      },
      "outputs": [
        {
          "name": "stdout",
          "output_type": "stream",
          "text": "Training Set Shape: (22, 6)\nValidation Set Shape: (1, 6)\nTest Set Shape: (1, 6)\n"
        }
      ],
      "execution_count": 68
    },
    {
      "id": "cf9389c0",
      "cell_type": "markdown",
      "source": "\n\n- (0.5 marks) Train a linear regression model on the log-transformed revenue data.\n\n",
      "metadata": {}
    },
    {
      "id": "921a8624",
      "cell_type": "code",
      "source": "from sklearn.linear_model import LinearRegression\n\nfeatures = [\"Months_Since_Launch\", \"Revenue\", \"Base_10_Log_Revenue\", \"Scandals\"]\ntarget = \"Payroll\"\n\nX_train = train_df[features]\ny_train = train_df[target]\n\nols_model = LinearRegression()\nols_model.fit(X_train, y_train)\n\nprint(\"Intercept:\", ols_model.intercept_)\nprint(\"Coefficients:\", dict(zip(features, ols_model.coef_)))\n",
      "metadata": {
        "trusted": true
      },
      "outputs": [
        {
          "name": "stdout",
          "output_type": "stream",
          "text": "Intercept: -10696495.811176956\nCoefficients: {'Months_Since_Launch': np.float64(425695.1882001152), 'Revenue': np.float64(-0.39798615019495953), 'Base_10_Log_Revenue': np.float64(5824443.037382415), 'Scandals': np.float64(0.0)}\n"
        }
      ],
      "execution_count": 69
    },
    {
      "id": "c4064aa9",
      "cell_type": "markdown",
      "source": "\n\n- (0.5 marks) Compare both models clearly and identify the better-performing model.\n\n",
      "metadata": {}
    },
    {
      "id": "20d8e6f2",
      "cell_type": "code",
      "source": "from sklearn.linear_model import HuberRegressor\n\nfeatures = [\"Months_Since_Launch\", \"Revenue\", \"Base_10_Log_Revenue\", \"Scandals\"]\ntarget = \"Payroll\"\n\nX_train = train_df[features]\ny_train = train_df[target]\n\nhuber_model = HuberRegressor()\nhuber_model.fit(X_train, y_train)\n\nprint(\"Intercept:\", huber_model.intercept_)\nprint(\"Coefficients:\", dict(zip(features, huber_model.coef_)))\n",
      "metadata": {
        "trusted": true
      },
      "outputs": [
        {
          "name": "stdout",
          "output_type": "stream",
          "text": "Intercept: 4.03225647537457e-05\nCoefficients: {'Months_Since_Launch': np.float64(0.00036008816350609717), 'Revenue': np.float64(18.2686677078344), 'Base_10_Log_Revenue': np.float64(0.0002211117854673075), 'Scandals': np.float64(0.0)}\n"
        }
      ],
      "execution_count": 70
    },
    {
      "id": "c12b4a41",
      "cell_type": "markdown",
      "source": "\n\nSuggested word count: ~25 words\n\n",
      "metadata": {}
    },
    {
      "id": "56c2627d",
      "cell_type": "markdown",
      "source": "*Your answer here. Replace the text in this markdown cell. Remember not to use Gen-AI here \nThe model demonstrates that actual revenue has a significant impact on revenue. Scandals have no influence, but launch months and log revenue have little effect. The intercept is almost zero. ",
      "metadata": {}
    },
    {
      "id": "c20c4960",
      "cell_type": "markdown",
      "source": "\n\n- (0.5 marks) Predict revenue 12 months ahead, reversing any\n  transformations applied. Remember that the predictions of the\n  log-transformed revenue data need to be turned back into the\n  original units (dollars).\n  \n",
      "metadata": {}
    },
    {
      "id": "7745f789",
      "cell_type": "code",
      "source": "from sklearn.metrics import mean_absolute_error\n\nX_val = val_df[features]\ny_val = val_df[target]\ny_pred_val = huber_model.predict(X_val)\n\nmae = mean_absolute_error(y_val, y_pred_val)\nprint(f\"Mean Absolute Error (MAE) on Validation Set: {mae:.2f}\")\n",
      "metadata": {
        "trusted": true
      },
      "outputs": [
        {
          "name": "stdout",
          "output_type": "stream",
          "text": "Mean Absolute Error (MAE) on Validation Set: 29577694.27\n"
        }
      ],
      "execution_count": 71
    },
    {
      "id": "9508c2bc",
      "cell_type": "markdown",
      "source": "\n\nSuggested word count: ~25 words\n\n",
      "metadata": {}
    },
    {
      "id": "e98fed0d",
      "cell_type": "markdown",
      "source": "*Your answer here. Replace the text in this markdown cell. Remember not to use Gen-AI here.* ________________________________ \nthe result is 29577694.27 which describes the mean absolute error(mae) that is also on validation set.",
      "metadata": {}
    },
    {
      "id": "da38a54a",
      "cell_type": "markdown",
      "source": "\n\n- (1 mark) Predict revenue 20 years ahead. Discuss clearly whether this prediction is realistic, including any assumptions made.\n\n",
      "metadata": {}
    },
    {
      "id": "fb2f02af",
      "cell_type": "code",
      "source": "from sklearn.model_selection import train_test_split\nfrom sklearn.linear_model import LinearRegression\nfrom sklearn.metrics import mean_squared_error\nimport numpy as np\n\nX = df[['Months_Since_Launch', 'Payroll']]\ny = df['Base_10_Log_Revenue']\n\nX_train, X_test, y_train, y_test = train_test_split(X, y, test_size=0.2, random_state=42)\n\nols_model = LinearRegression()\nols_model.fit(X_train, y_train)\n\ny_test_pred = ols_model.predict(X_test)\n\nr_squared = ols_model.score(X_test, y_test)\n\nrmse_test = np.sqrt(mean_squared_error(y_test, y_test_pred))\n\nprint(\"R-squared (R²) on Test Set:\", round(r_squared, 4))\nprint(\"Test RMSE (OLS):\", round(rmse_test, 4))\n ",
      "metadata": {
        "trusted": true
      },
      "outputs": [
        {
          "name": "stdout",
          "output_type": "stream",
          "text": "R-squared (R²) on Test Set: 0.9695\nTest RMSE (OLS): 0.0916\n"
        }
      ],
      "execution_count": 72
    },
    {
      "id": "ca3191a3",
      "cell_type": "markdown",
      "source": "\n\nSuggested word count: ~150 words\n\n",
      "metadata": {}
    },
    {
      "id": "ffd5b961",
      "cell_type": "markdown",
      "source": "*Your answer here. Replace the text in this markdown cell. Remember not to use Gen-AI here.* ________________________________ \nhere, the r-squared result is 0.9695 and ordinary least square is 0.0916 which is positive for the organisation.",
      "metadata": {}
    },
    {
      "id": "87408c64",
      "cell_type": "markdown",
      "source": "\n\n\n## Logistic Regression: Predicting Negative Media Coverage (3 marks)\n\nYou will see a column called \"Media Coverage\" which takes values of\n\"Positive\" or \"Negative\". This is *categorical* data, meaning it\nconsists of distinct, finite values.\n\nIf a journalist wrote something nice about the company you will see a\n\"Positive\" in this column. If they wrote something bad about the\ncompany (or didn't write anything at all), you will see a \"Negative\"\nin this column.\n\n- (0.5 marks) Which features will you use to predict \"Media Coverage\"?\n\nSuggested word count: ~50 words\n\n",
      "metadata": {}
    },
    {
      "id": "775457ad",
      "cell_type": "markdown",
      "source": "*Your answer here. Replace the text in this markdown cell. Remember not to use Gen-AI here.* _______________________________\nmonth since launch, payroll and scandals would justify for the media coverage which helps in the negative and positive perception of the people.",
      "metadata": {}
    },
    {
      "id": "4ba57c71",
      "cell_type": "markdown",
      "source": "\n\n- (0.1 marks) We don't need validation data (we aren't comparing any models), but we do need test\n  data so that we can see if the model is worthwhile. Randomly select some data to act as test\n  data.\n  \n",
      "metadata": {}
    },
    {
      "id": "e3abbdf3",
      "cell_type": "markdown",
      "source": "\n  \n- (0.1 marks) Train a logistic regression model on the training (non-test) data\n\n",
      "metadata": {}
    },
    {
      "id": "70e23258",
      "cell_type": "code",
      "source": "last_month = df['Months_Since_Launch'].max()\n\nfuture_month = last_month + 12\n\nfrom sklearn.linear_model import LinearRegression\n\nX_payroll = df[['Months_Since_Launch']]\ny_payroll = df['Payroll']\npayroll_model = LinearRegression()\npayroll_model.fit(X_payroll, y_payroll)\n\npredicted_payroll = payroll_model.predict([[future_month]])\n\nprint(f\"Estimated Payroll in month {future_month}:\", round(predicted_payroll[0], 2))",
      "metadata": {
        "trusted": true
      },
      "outputs": [
        {
          "name": "stderr",
          "output_type": "stream",
          "text": "/lib/python3.12/site-packages/sklearn/base.py:493: UserWarning: X does not have valid feature names, but LinearRegression was fitted with feature names\n  warnings.warn(\n"
        },
        {
          "name": "stdout",
          "output_type": "stream",
          "text": "Estimated Payroll in month 36: 47710381.65\n"
        }
      ],
      "execution_count": 80
    },
    {
      "id": "c3d10561",
      "cell_type": "markdown",
      "source": "\n\n- (0.1 marks) Choose a metric and evaluate the success of your logistic regression\n\n",
      "metadata": {}
    },
    {
      "id": "844c11ae",
      "cell_type": "code",
      "source": "predicted_payroll = payroll_model.predict([[future_month]])[0]\n\ny_payroll_pred = payroll_model.predict(X_payroll)\nrmse_payroll = np.sqrt(mean_squared_error(y_payroll, y_payroll_pred))\n\nlower_bound = predicted_payroll - 2 * rmse_payroll\nupper_bound = predicted_payroll + 2 * rmse_payroll\n\nprint(f\"Predicted Payroll (Month {future_month}): ${predicted_payroll:,.2f}\")\nprint(f\"95% Confidence Interval: (${lower_bound:,.2f}, ${upper_bound:,.2f})\")",
      "metadata": {
        "trusted": true
      },
      "outputs": [
        {
          "name": "stderr",
          "output_type": "stream",
          "text": "/lib/python3.12/site-packages/sklearn/base.py:493: UserWarning: X does not have valid feature names, but LinearRegression was fitted with feature names\n  warnings.warn(\n"
        },
        {
          "name": "stdout",
          "output_type": "stream",
          "text": "Predicted Payroll (Month 36): $47,710,381.65\n95% Confidence Interval: ($41,653,629.67, $53,767,133.62)\n"
        }
      ],
      "execution_count": 81
    },
    {
      "id": "16c2e1e1",
      "cell_type": "markdown",
      "source": "\n\n- (0.1 marks) Examine the coefficients of the logistic regression model that you created.\n\n",
      "metadata": {}
    },
    {
      "id": "1c94c42c",
      "cell_type": "code",
      "source": "ax1 = plt.subplot(2, 1, 1)\nsns.lineplot(x='Months_Since_Launch', y='Revenue', data=df, marker='o', linewidth=2, color='#1f77b4')\n\nnegative_period = df[df['Media Coverage'] == 'Negative']\npositive_period = df[df['Media Coverage'] == 'Positive']\n\nplt.axvspan(negative_period['Months_Since_Launch'].min() - 0.5, \n            negative_period['Months_Since_Launch'].max() + 0.5, \n            alpha=0.2, color='red', label='Negative Media')\nplt.axvspan(positive_period['Months_Since_Launch'].min() - 0.5, \n            positive_period['Months_Since_Launch'].max() + 0.5, \n            alpha=0.2, color='green', label='Positive Media')\n\nmax_rev_idx = df['Revenue'].idxmax()\nmax_rev_month = df.loc[max_rev_idx, 'Months_Since_Launch']\nmax_rev_value = df.loc[max_rev_idx, 'Revenue']\n\nsns.set_style('whitegrid')\nplt.annotate(f'Max: ${max_rev_value:,.2f}', \n             xy=(max_rev_month, max_rev_value),\n             xytext=(5, 15), textcoords='offset points',\n             arrowprops=dict(arrowstyle='->', connectionstyle='arc3,rad=.2'))\n\nmedia_transition_month = positive_period['Months_Since_Launch'].min()\nmedia_transition_rev = df[df['Months_Since_Launch'] == media_transition_month]['Revenue'].values[0]\n\nplt.annotate('Media Coverage\\nShift to Positive', \n             xy=(media_transition_month, media_transition_rev),\n             xytext=(0, -50), textcoords='offset points',\n             arrowprops=dict(arrowstyle='->', connectionstyle='arc3,rad=.2'))\n\nplt.title('Revenue Over Time', fontsize=16, fontweight='bold')\nplt.ylabel('Revenue ($)', fontsize=12)\nplt.grid(True, alpha=0.3)\nplt.legend()\n\nax2 = plt.subplot(2, 1, 2)\nsns.lineplot(x='Months_Since_Launch', y='Revenue', data=df, marker='o', linewidth=2, color='#1f77b4')\nplt.yscale('log')\n\nplt.axvspan(negative_period['Months_Since_Launch'].min() - 0.5, \n            negative_period['Months_Since_Launch'].max() + 0.5, \n            alpha=0.2, color='red', label='Negative Media')\nplt.axvspan(positive_period['Months_Since_Launch'].min() - 0.5, \n            positive_period['Months_Since_Launch'].max() + 0.5, \n            alpha=0.2, color='green', label='Positive Media')\n\nx = df['Months_Since_Launch'].values\ny = df['Revenue'].values\nz = np.polyfit(x, np.log(y), 1)\np = np.poly1d(z)\nplt.plot(x, np.exp(p(x)), \"r--\", linewidth=1, label='Exponential Trend')\n\nplt.title('Revenue Over Time (Log Scale)', fontsize=16, fontweight='bold')\nplt.xlabel('Months Since Launch', fontsize=12)\nplt.ylabel('Revenue ($) - Log Scale', fontsize=12)\nplt.grid(True, alpha=0.3)\nplt.legend()\n\nplt.tight_layout()\nplt.show()",
      "metadata": {
        "trusted": true
      },
      "outputs": [
        {
          "output_type": "display_data",
          "data": {
            "text/plain": "<Figure size 640x480 with 1 Axes>",
            "image/png": "[encoded data removed]"
          },
          "metadata": {}
        },
        {
          "ename": "<class 'NameError'>",
          "evalue": "name 'sns' is not defined",
          "traceback": [
            "\u001b[0;31m---------------------------------------------------------------------------\u001b[0m",
            "\u001b[0;31mNameError\u001b[0m                                 Traceback (most recent call last)",
            "Cell \u001b[0;32mIn[83], line 2\u001b[0m\n\u001b[1;32m      1\u001b[0m ax1 \u001b[38;5;241m=\u001b[39m plt\u001b[38;5;241m.\u001b[39msubplot(\u001b[38;5;241m2\u001b[39m, \u001b[38;5;241m1\u001b[39m, \u001b[38;5;241m1\u001b[39m)\n\u001b[0;32m----> 2\u001b[0m \u001b[43msns\u001b[49m\u001b[38;5;241m.\u001b[39mlineplot(x\u001b[38;5;241m=\u001b[39m\u001b[38;5;124m'\u001b[39m\u001b[38;5;124mMonths_Since_Launch\u001b[39m\u001b[38;5;124m'\u001b[39m, y\u001b[38;5;241m=\u001b[39m\u001b[38;5;124m'\u001b[39m\u001b[38;5;124mRevenue\u001b[39m\u001b[38;5;124m'\u001b[39m, data\u001b[38;5;241m=\u001b[39mdf, marker\u001b[38;5;241m=\u001b[39m\u001b[38;5;124m'\u001b[39m\u001b[38;5;124mo\u001b[39m\u001b[38;5;124m'\u001b[39m, linewidth\u001b[38;5;241m=\u001b[39m\u001b[38;5;241m2\u001b[39m, color\u001b[38;5;241m=\u001b[39m\u001b[38;5;124m'\u001b[39m\u001b[38;5;124m#1f77b4\u001b[39m\u001b[38;5;124m'\u001b[39m)\n\u001b[1;32m      4\u001b[0m negative_period \u001b[38;5;241m=\u001b[39m df[df[\u001b[38;5;124m'\u001b[39m\u001b[38;5;124mMedia Coverage\u001b[39m\u001b[38;5;124m'\u001b[39m] \u001b[38;5;241m==\u001b[39m \u001b[38;5;124m'\u001b[39m\u001b[38;5;124mNegative\u001b[39m\u001b[38;5;124m'\u001b[39m]\n\u001b[1;32m      5\u001b[0m positive_period \u001b[38;5;241m=\u001b[39m df[df[\u001b[38;5;124m'\u001b[39m\u001b[38;5;124mMedia Coverage\u001b[39m\u001b[38;5;124m'\u001b[39m] \u001b[38;5;241m==\u001b[39m \u001b[38;5;124m'\u001b[39m\u001b[38;5;124mPositive\u001b[39m\u001b[38;5;124m'\u001b[39m]\n",
            "\u001b[0;31mNameError\u001b[0m: name 'sns' is not defined"
          ],
          "output_type": "error"
        }
      ],
      "execution_count": 83
    },
    {
      "id": "8da42f45",
      "cell_type": "markdown",
      "source": "\n\n- (1 mark) Clearly discuss the logistic regression coefficients and\n  identify the most influential features contributing to negative\n  media coverage.\n  \n  Suggested word count: ~150 words\n\n",
      "metadata": {}
    },
    {
      "id": "1b968086",
      "cell_type": "markdown",
      "source": "*Your answer here. Replace the text in this markdown cell. Remember not to use Gen-AI here.* ________________________________",
      "metadata": {}
    },
    {
      "id": "37303483",
      "cell_type": "markdown",
      "source": "\n\n- (1 mark) Use the logistic regression model to predict the probability of negative media\n  coverage 12 months from now. Assume that there are no scandals in that month.\n  \n",
      "metadata": {}
    },
    {
      "id": "69d19bce",
      "cell_type": "code",
      "source": "df['Log_Revenue'] = np.log(df['Revenue'])\n\nX = df[['Months_Since_Launch', 'Payroll', 'Log_Revenue']]  \ny = df['Base_10_Log_Revenue']  \n\nX_train, X_test, y_train, y_test = train_test_split(X, y, test_size=0.2, random_state=42)\n\nols_model = LinearRegression()\nols_model.fit(X_train, y_train)\n\ny_test_pred = ols_model.predict(X_test)\n\nr_squared = ols_model.score(X_test, y_test)\n\nrmse_test = np.sqrt(mean_squared_error(y_test, y_test_pred))\n\nprint(\"R-squared (R²) on Test Set:\", round(r_squared, 4))\nprint(\"Test RMSE (OLS):\", round(rmse_test, 4))",
      "metadata": {
        "trusted": true
      },
      "outputs": [
        {
          "name": "stdout",
          "output_type": "stream",
          "text": "R-squared (R²) on Test Set: 1.0\nTest RMSE (OLS): 0.0\n"
        }
      ],
      "execution_count": 84
    },
    {
      "id": "6f1565b2-a02f-4297-b424-a085dcfcfb68",
      "cell_type": "code",
      "source": "from sklearn.linear_model import LinearRegression\nfrom sklearn.model_selection import train_test_split\n\nfeatures = ['Payroll']  \ntarget = 'Revenue'\n\nX = df[features]\ny = df[target]\nX_train, X_test, y_train, y_test = train_test_split(X, y, test_size=0.2, random_state=42)\n\nlin_reg = LinearRegression()\nlin_reg.fit(X_train, y_train)\n\ny_pred = lin_reg.predict(X_test)\n\nfrom sklearn.metrics import mean_absolute_error, mean_squared_error, r2_score\nmae = mean_absolute_error(y_test, y_pred)\nrmse = mean_squared_error(y_test, y_pred, squared=False)\nr2 = r2_score(y_test, y_pred)\n\nprint(\"Linear Regression Model on Original Revenue\")\nprint(f\"MAE: {mae:.2f}\")",
      "metadata": {
        "trusted": true
      },
      "outputs": [
        {
          "name": "stderr",
          "output_type": "stream",
          "text": "/lib/python3.12/site-packages/sklearn/metrics/_regression.py:492: FutureWarning: 'squared' is deprecated in version 1.4 and will be removed in 1.6. To calculate the root mean squared error, use the function'root_mean_squared_error'.\n  warnings.warn(\n"
        },
        {
          "name": "stdout",
          "output_type": "stream",
          "text": "Linear Regression Model on Original Revenue\nMAE: 144713.98\n"
        }
      ],
      "execution_count": 85
    },
    {
      "id": "442e7949-cc1f-46d0-bd0c-1fdcde6950d9",
      "cell_type": "code",
      "source": "from sklearn.linear_model import LinearRegression\n\ntarget = 'Base_10_Log_Revenue'  \nfeatures = ['Payroll'] \n\nX_train = train_df[features]\ny_train = train_df[target]\n\nlog_linear_model = LinearRegression()\nlog_linear_model.fit(X_train, y_train)\n\nprint(\"Intercept:\", log_linear_model.intercept_)\nprint(\"Coefficients:\", dict(zip(features, log_linear_model.coef_)))\n",
      "metadata": {
        "trusted": true
      },
      "outputs": [
        {
          "name": "stdout",
          "output_type": "stream",
          "text": "Intercept: 3.784398998570207\nCoefficients: {'Payroll': np.float64(7.129633784148689e-08)}\n"
        }
      ],
      "execution_count": 86
    },
    {
      "id": "79e97ee4-0bd2-49ca-95b3-b8cfa7cf3503",
      "cell_type": "code",
      "source": "from sklearn.metrics import mean_absolute_error, mean_squared_error, r2_score\nimport numpy as np\n\nX_test = test_df[features]\ny_test = test_df['Revenue']  \ny_test_log = test_df['Base_10_Log_Revenue']  \n\ny_pred_orig = lin_reg.predict(X_test)  \ny_pred_log = log_linear_model.predict(X_test)  \n\ny_pred_log_transformed = 10 ** y_pred_log  \n\nmae_orig = mean_absolute_error(y_test, y_pred_orig)\nrmse_orig = mean_squared_error(y_test, y_pred_orig, squared=False)\nr2_orig = r2_score(y_test, y_pred_orig)\n\nmae_log = mean_absolute_error(y_test, y_pred_log_transformed)\nrmse_log = mean_squared_error(y_test, y_pred_log_transformed, squared=False)\nr2_log = r2_score(y_test, y_pred_log_transformed)\n\nprint(\"\\n--- Model Performance Comparison ---\")\nprint(\"\\nOriginal Revenue Model:\")\nprint(f\"MAE: {mae_orig:.2f}, RMSE: {rmse_orig:.2f}, R²: {r2_orig:.4f}\")\n\nprint(\"\\nLog-Transformed Revenue Model:\")\nprint(f\"MAE: {mae_log:.2f}, RMSE: {rmse_log:.2f}, R²: {r2_log:.4f}\")\n\nbetter_model = \"Log-Transformed Model\" if rmse_log < rmse_orig else \"Original Revenue Model\"\nprint(f\"\\nBetter Performing Model: {better_model}\")",
      "metadata": {
        "trusted": true
      },
      "outputs": [
        {
          "name": "stderr",
          "output_type": "stream",
          "text": "/lib/python3.12/site-packages/sklearn/metrics/_regression.py:492: FutureWarning: 'squared' is deprecated in version 1.4 and will be removed in 1.6. To calculate the root mean squared error, use the function'root_mean_squared_error'.\n  warnings.warn(\n/lib/python3.12/site-packages/sklearn/metrics/_regression.py:1211: UndefinedMetricWarning: R^2 score is not well-defined with less than two samples.\n  warnings.warn(msg, UndefinedMetricWarning)\n/lib/python3.12/site-packages/sklearn/metrics/_regression.py:492: FutureWarning: 'squared' is deprecated in version 1.4 and will be removed in 1.6. To calculate the root mean squared error, use the function'root_mean_squared_error'.\n  warnings.warn(\n/lib/python3.12/site-packages/sklearn/metrics/_regression.py:1211: UndefinedMetricWarning: R^2 score is not well-defined with less than two samples.\n  warnings.warn(msg, UndefinedMetricWarning)\n"
        },
        {
          "name": "stdout",
          "output_type": "stream",
          "text": "\n--- Model Performance Comparison ---\n\nOriginal Revenue Model:\nMAE: 1333117.30, RMSE: 1333117.30, R²: nan\n\nLog-Transformed Revenue Model:\nMAE: 1116160.24, RMSE: 1116160.24, R²: nan\n\nBetter Performing Model: Log-Transformed Model\n"
        }
      ],
      "execution_count": 87
    },
    {
      "id": "73e442e4-5078-408d-8da3-6914f6b20d9c",
      "cell_type": "code",
      "source": "X = df[['Months_Since_Launch']]\ny_log = df['Base_10_Log_Revenue']\n\nmodel = LinearRegression()\nmodel.fit(X, y_log)\n\nfuture_months = pd.DataFrame({'Months_Since_Launch': range(25, 37)})\nlog_predictions = model.predict(future_months)\n\nrevenue_predictions = np.power(10, log_predictions)\n\npredicted_df = future_months.copy()\npredicted_df['Predicted_Revenue'] = revenue_predictions\n\nprint(\"Predicted Revenue for Months 25–36:\\n\")\nprint(predicted_df)",
      "metadata": {
        "trusted": true
      },
      "outputs": [
        {
          "name": "stdout",
          "output_type": "stream",
          "text": "Predicted Revenue for Months 25–36:\n\n    Months_Since_Launch  Predicted_Revenue\n0                    25       5.754385e+06\n1                    26       6.879990e+06\n2                    27       8.225773e+06\n3                    28       9.834803e+06\n4                    29       1.175857e+07\n5                    30       1.405865e+07\n6                    31       1.680863e+07\n7                    32       2.009654e+07\n8                    33       2.402759e+07\n9                    34       2.872759e+07\n10                   35       3.434694e+07\n11                   36       4.106549e+07\n"
        }
      ],
      "execution_count": 88
    },
    {
      "id": "81c8d9fd-2d15-402a-b9b4-eaf67d55f51f",
      "cell_type": "code",
      "source": "X = df[['Months_Since_Launch']]\ny_log = df['Base_10_Log_Revenue']\n\nmodel = LinearRegression()\nmodel.fit(X, y_log)\n\nfuture_20yr = pd.DataFrame({'Months_Since_Launch': range(25, 25 + 240)})\nlog_revenue_pred = model.predict(future_20yr)\nrevenue_pred = np.power(10, log_revenue_pred)\n\npred_20yr_df = future_20yr.copy()\npred_20yr_df['Predicted_Revenue'] = revenue_pred\n\nprint(\"Last 5 predicted months (20 years ahead):\")\nprint(pred_20yr_df.tail())\n",
      "metadata": {
        "trusted": true
      },
      "outputs": [
        {
          "name": "stdout",
          "output_type": "stream",
          "text": "Last 5 predicted months (20 years ahead):\n     Months_Since_Launch  Predicted_Revenue\n235                  260       9.849030e+24\n236                  261       1.177558e+25\n237                  262       1.407898e+25\n238                  263       1.683295e+25\n239                  264       2.012561e+25\n"
        }
      ],
      "execution_count": 89
    },
    {
      "id": "83e0462c",
      "cell_type": "markdown",
      "source": "\n\nSuggested word count: ~25 words\n\nit suggests momentum but potential unrealistic long term project with no sustainibility in the company. ",
      "metadata": {}
    },
    {
      "id": "cfc6b4b8-fd26-4c46-85e5-ba4047512eb1",
      "cell_type": "code",
      "source": "from sklearn.model_selection import train_test_split\n\ndf['Media_Coverage_Label'] = df['Media Coverage'].map({'Positive': 1, 'Negative': 0})\n\nfeatures = ['Revenue', 'Base_10_Log_Revenue']\nX = df[features]\ny = df['Media_Coverage_Label']\n\nX_train, X_test, y_train, y_test = train_test_split(\n    X, y, test_size=0.2, random_state=42, stratify=y)\n\nprint(\"Training samples:\", len(X_train))\nprint(\"Test samples:\", len(X_test))",
      "metadata": {
        "trusted": true
      },
      "outputs": [
        {
          "name": "stdout",
          "output_type": "stream",
          "text": "Training samples: 19\nTest samples: 5\n"
        }
      ],
      "execution_count": 90
    },
    {
      "id": "c101e5fc-9097-45ce-bf4d-dc86d3845b94",
      "cell_type": "code",
      "source": "from sklearn.linear_model import LogisticRegression\nfrom sklearn.preprocessing import StandardScaler\n\nscaler = StandardScaler()\nX_train_scaled = scaler.fit_transform(X_train)\nX_test_scaled = scaler.transform(X_test)\n\nmodel = LogisticRegression(random_state=42, max_iter=1000)\nmodel.fit(X_train_scaled, y_train)\n\nprint(\"Model coefficients:\")\nfor feature, coef in zip(features, model.coef_[0]):\n    print(f\"{feature}: {coef:.6f}\")\n\ntrain_accuracy = model.score(X_train_scaled, y_train)\nprint(f\"Training accuracy: {train_accuracy:.4f}\")\n\ntest_accuracy = model.score(X_test_scaled, y_test)\nprint(f\"Test accuracy: {test_accuracy:.4f}\")\n",
      "metadata": {
        "trusted": true
      },
      "outputs": [
        {
          "name": "stdout",
          "output_type": "stream",
          "text": "Model coefficients:\nRevenue: 1.151950\nBase_10_Log_Revenue: 1.194990\nTraining accuracy: 0.9474\nTest accuracy: 1.0000\n"
        }
      ],
      "execution_count": 91
    },
    {
      "id": "fe7978cd-6863-4f1e-8987-fdd6acbecc06",
      "cell_type": "code",
      "source": "from sklearn.metrics import classification_report, confusion_matrix, roc_auc_score, precision_recall_curve\n\ny_pred = model.predict(X_test_scaled)\ny_prob = model.predict_proba(X_test_scaled)[:, 1]  # Probability of positive class\n\nroc_auc = roc_auc_score(y_test, y_prob)\nprint(f\"ROC AUC Score: {roc_auc:.4f}\")\n\nprint(\"\\nClassification Report:\")\nprint(classification_report(y_test, y_pred))\n\nprint(\"\\nConfusion Matrix:\")\ncm = confusion_matrix(y_test, y_pred)\nprint(cm)\n\nprecision = cm[1, 1] / (cm[1, 1] + cm[0, 1]) if (cm[1, 1] + cm[0, 1]) > 0 else 0\nrecall = cm[1, 1]",
      "metadata": {
        "trusted": true
      },
      "outputs": [
        {
          "name": "stdout",
          "output_type": "stream",
          "text": "ROC AUC Score: 1.0000\n\nClassification Report:\n              precision    recall  f1-score   support\n\n           0       1.00      1.00      1.00         3\n           1       1.00      1.00      1.00         2\n\n    accuracy                           1.00         5\n   macro avg       1.00      1.00      1.00         5\nweighted avg       1.00      1.00      1.00         5\n\n\nConfusion Matrix:\n[[3 0]\n [0 2]]\n"
        }
      ],
      "execution_count": 92
    },
    {
      "id": "d3ab1d77-03ea-4b85-9901-a9f120d5488f",
      "cell_type": "code",
      "source": "print(\"Logistic Regression Coefficients:\")\ncoef_df = pd.DataFrame({\n    'Feature': features,\n    'Coefficient': model.coef_[0]\n})\nprint(coef_df.sort_values('Coefficient', ascending=False))",
      "metadata": {
        "trusted": true
      },
      "outputs": [
        {
          "name": "stdout",
          "output_type": "stream",
          "text": "Logistic Regression Coefficients:\n               Feature  Coefficient\n1  Base_10_Log_Revenue      1.19499\n0              Revenue      1.15195\n"
        }
      ],
      "execution_count": 94
    },
    {
      "id": "4f6140cf-2df1-44cf-8ad9-2abb44b14f1a",
      "cell_type": "code",
      "source": "X_train, X_test, y_train, y_test = train_test_split(\n    X, y, test_size=0.2, random_state=42, stratify=y)\n\nmodel = LogisticRegression()\nmodel.fit(X_train, y_train)\n\nrevenue_12_months = 1000000  # Example value for Revenue\nlog_revenue_12_months = 6.5  # Example value for Base_10_Log_Revenue\n\n# Create a new dataframe for the prediction\nnew_data = pd.DataFrame([[revenue_12_months, log_revenue_12_months]], columns=features)\n\n# Predict probabilities\nprobabilities = model.predict_proba(new_data)\n\n# Probability of negative media coverage (class 0)\nnegative_media_probability = probabilities[0][0]\n\nprint(f\"Probability of negative media coverage 12 months from now: {negative_media_probability:.4f}\")",
      "metadata": {
        "trusted": true
      },
      "outputs": [
        {
          "name": "stdout",
          "output_type": "stream",
          "text": "Probability of negative media coverage 12 months from now: 0.4295\n"
        }
      ],
      "execution_count": 95
    },
    {
      "id": "66b6ddc5-5c05-4986-a01b-ae76552897a8",
      "cell_type": "code",
      "source": "",
      "metadata": {
        "trusted": true
      },
      "outputs": [],
      "execution_count": null
    },
    {
      "id": "0aeed4b3",
      "cell_type": "markdown",
      "source": "*Your answer here. Replace the text in this markdown cell. Remember not to use Gen-AI here.* ______________________ \nin a year from now, there is only 42.95% chance of negative media coverage that will risk public perception.",
      "metadata": {}
    },
    {
      "id": "bf7749b0",
      "cell_type": "markdown",
      "source": "\n\n- (0.1 marks) Restart the kernel and rerun the notebook to verify that\n  it is still working start-to-finish. Enter the \"RESTARTED AND\n  CHECKED\" in the next cell when you have done this.\n  \n  Suggested word count: 3 words\n  \n",
      "metadata": {}
    },
    {
      "id": "801671f3",
      "cell_type": "markdown",
      "source": "*Your answer here. Replace the text in this markdown cell. Remember not to use Gen-AI here.* ________________________________",
      "metadata": {}
    },
    {
      "id": "78384750",
      "cell_type": "markdown",
      "source": "\n\n## Written Summary of Findings (1.5 marks)\n\n- Provide a coherent one-paragraph summary clearly highlighting key\n  results and your confidence in these predictions. The investment\n  fund wants to know what you think this company will be like in a\n  year's time (revenue, payroll, media coverage).\n  \nNote that we aren't marking whether you have a right or wrong answer here, we are\ngoing to mark whether what you say shows an understanding of what your data \nanalysis and modelling produced.\n\nIf you want to add any visualisations here, you can.\n\n",
      "metadata": {}
    },
    {
      "id": "6eea1a73",
      "cell_type": "code",
      "source": "This dataset tracks a company’s progress over time, capturing key metrics that reflect both financial performance and public perception. The main variables include months since launch, payroll, revenue, base 10log revenue, scandals, and media coverage. Each row represents a month in the company’s lifecycle, beginning from its launch. \nPayroll remains consistently high, indicating ongoing investment in human capital. Revenue starts relatively low but grows over time, reflecting increasing market traction. To better model this growth, a logarithmic transformation of revenue (base 10log revenue) was applied. This transformation helps stabilize variance and convert nonlinear relationships into linear ones, which improves the effectiveness of regression models.\nThe scandals column tracks whether the company has been involved in any public controversies. In the observed period, there are no recorded scandals, yet the media coverage remains consistently negative in the early months. This suggests that factors other than scandals—such as low early revenue, lack of visibility, or delayed success may be influencing negative press.\nLinear regression results show that actual revenue is the strongest predictor of company performance. Other features like months since launch and log revenue have minor effects, while scandals have no impact in the absence of events.\nlogistic regression model was used to predict the likelihood of negative media coverage. At 12 months, the probability stands at 42.95%, indicating a moderate risk of unfavorable press continuing despite improving financials.\nForecasting revenue 20 years into the future shows exponential growth, predicting values. While this suggests strong upward momentum, it is likely unrealistic due to real-world constraints like competition, market limits, and economic shifts.\nIn summary, the dataset highlights the disconnect that can exist between improving performance and public perception, underscoring the complexity of corporate reputation management alongside financial success.\n",
      "metadata": {},
      "outputs": [],
      "execution_count": null
    },
    {
      "id": "3884b117",
      "cell_type": "markdown",
      "source": "\n\nSuggested word count: ~250 words\n\n",
      "metadata": {}
    },
    {
      "id": "24aa9fc3",
      "cell_type": "markdown",
      "source": "*Your answer here. Replace the text in this markdown cell. Remember not to use Gen-AI here.* ________________________________",
      "metadata": {}
    },
    {
      "id": "334cf26f",
      "cell_type": "markdown",
      "source": "\n\n\n## 2-Minute Video Presentation (1.5 marks)\n\nSome of your (non-technical) colleagues in this venture capital firm\nare in other timezones, and don't know how to program, so you need to\ncreate a video presentation for them describing your insights.\n\nIt is common for data scientists to record screencasts (a presentation\nwith a voiceover); not everyone records video of themselves\ntalking. Some people use the QuickTime application in OSX; some record\na Zoom meeting; people find technology and programs that they are\ncomfortable using.\n\nSome people present presentations directly from their Jupyter notebook;\nothers create custom PowerPoint presentations. \n\nSo your choices in this section are quite open. \n\n- (0.5 marks) Submit a video, and ensure the video is in low resolution (SD, 480p)\n  so that it is small enough to upload. Keep the time to around 2\n  minutes.\n\n- (0.6 marks) State what you believe will happen to this startup over the next 12 months:\n  revenue, payroll, positive/negative media coverage. (0.6 marks)\n  \n- (0.4 marks) Briefly discuss any limitations or assumptions you made\n  in your analysis and how they might affect your predictions. Suggest\n  at least one practical step or recommendation to address these\n  concerns.\n\n\n\n\n\n\n## Late Assessment Submission Penalty \n\nUnless a Special Consideration request has been submitted and\napproved, a 5% penalty (of the total possible mark of the task) will\nbe applied for each day a written report or presentation assessment is\nnot submitted, up until the 7th day (including weekends). After the\n7th day, a grade of ‘0’ will be awarded even if the assessment is\nsubmitted. The submission time for all uploaded assessments is 11:55\npm. A 1-hour grace period will be provided to students who experience\na technical concern. For any late submission of time-sensitive tasks,\nsuch as scheduled tests/exams, performance assessments/presentations,\nand/or scheduled practical assessments/labs, please apply for\n[Special Consideration](https://students.mq.edu.au/study/assessment-exams/special-consideration).\n\nFor example, as this assignment is worth 15% of the entire unit, a\nsubmission late by up to 24 hours will incur a penalty of 0.75 marks\n(5% of 15 marks). A submission that is late by between 24 and 48 hours\nwill incur a penalty of 1.5 marks (10% of 15 marks), and so on.\n\n## Sample Gen-AI prompts\n\nProgramming prompts:\n\n```\nDon't give me the answer directly, but help guide me to answering\nthis question. I will be programming in Python using the pandas and scikit-learn\nlibraries. If it appears that I don't know something that I would need to \nanswer a question, suggest functions or classes that I should learn about. Always\nadd little bits of information that will guide my journey.\n\nHere is my code so far, and the question I am trying to answer\n(....)\n```\n\nIf you are concerned about your grammar or language, try a prompt like this:\n\n```\nFind any grammatical mistakes, typos or other language errors in this\ntext. Don't make the corrections, just list for me what was wrong and\nexplain the problem.\n```\n\n",
      "metadata": {}
    }
  ]
}